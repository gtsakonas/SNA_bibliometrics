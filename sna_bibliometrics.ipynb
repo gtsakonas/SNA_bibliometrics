{
 "cells": [
  {
   "cell_type": "markdown",
   "metadata": {},
   "source": [
    "SNA in Bibliometrics\n",
    "A number of papers in a specific field (big data, cloud computing, SNA etc.) are gathered\n",
    "from the data feed (webofknowledge.com) and they are filtered by the funded agencies option which is available in this source.  In this way it is declared that the selected papers are connected with a fund. Information like authors, title, abstract and keywords can easily be extracted from the source but the name of specific tools, projects or algorithms are possible missed.   The full text of papers in .pdf or .txt format is gathered. NLP and text mining techniques like LDA, NER are used in order to extract the necessary information.\n"
   ]
  },
  {
   "cell_type": "code",
   "execution_count": null,
   "metadata": {
    "collapsed": true
   },
   "outputs": [],
   "source": []
  }
 ],
 "metadata": {
  "kernelspec": {
   "display_name": "Python 2",
   "language": "python",
   "name": "python2"
  },
  "language_info": {
   "codemirror_mode": {
    "name": "ipython",
    "version": 2
   },
   "file_extension": ".py",
   "mimetype": "text/x-python",
   "name": "python",
   "nbconvert_exporter": "python",
   "pygments_lexer": "ipython2",
   "version": "2.7.10"
  }
 },
 "nbformat": 4,
 "nbformat_minor": 0
}
